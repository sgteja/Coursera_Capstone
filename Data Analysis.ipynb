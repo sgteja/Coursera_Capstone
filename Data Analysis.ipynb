{
 "cells": [
  {
   "cell_type": "markdown",
   "metadata": {},
   "source": [
    "# Data Analysis"
   ]
  },
  {
   "cell_type": "markdown",
   "metadata": {},
   "source": [
    "## Importing libraries"
   ]
  },
  {
   "cell_type": "code",
   "execution_count": 1,
   "metadata": {},
   "outputs": [],
   "source": [
    "import pandas as pd\n",
    "import numpy as np\n",
    "import geocoder\n",
    "from opencage.geocoder import OpenCageGeocode\n",
    "import folium\n",
    "import requests\n",
    "from sklearn.cluster import KMeans\n",
    "import matplotlib.cm as cm\n",
    "import matplotlib.colors as colors"
   ]
  },
  {
   "cell_type": "markdown",
   "metadata": {},
   "source": [
    "## Scraping data\n",
    "\n",
    "Using the pandas library to read the html"
   ]
  },
  {
   "cell_type": "code",
   "execution_count": 2,
   "metadata": {},
   "outputs": [
    {
     "data": {
      "text/html": [
       "<div>\n",
       "<style scoped>\n",
       "    .dataframe tbody tr th:only-of-type {\n",
       "        vertical-align: middle;\n",
       "    }\n",
       "\n",
       "    .dataframe tbody tr th {\n",
       "        vertical-align: top;\n",
       "    }\n",
       "\n",
       "    .dataframe thead th {\n",
       "        text-align: right;\n",
       "    }\n",
       "</style>\n",
       "<table border=\"1\" class=\"dataframe\">\n",
       "  <thead>\n",
       "    <tr style=\"text-align: right;\">\n",
       "      <th></th>\n",
       "      <th>Postal code</th>\n",
       "      <th>Borough</th>\n",
       "      <th>Neighborhood</th>\n",
       "    </tr>\n",
       "  </thead>\n",
       "  <tbody>\n",
       "    <tr>\n",
       "      <td>0</td>\n",
       "      <td>M1A</td>\n",
       "      <td>Not assigned</td>\n",
       "      <td>NaN</td>\n",
       "    </tr>\n",
       "    <tr>\n",
       "      <td>1</td>\n",
       "      <td>M2A</td>\n",
       "      <td>Not assigned</td>\n",
       "      <td>NaN</td>\n",
       "    </tr>\n",
       "    <tr>\n",
       "      <td>2</td>\n",
       "      <td>M3A</td>\n",
       "      <td>North York</td>\n",
       "      <td>Parkwoods</td>\n",
       "    </tr>\n",
       "    <tr>\n",
       "      <td>3</td>\n",
       "      <td>M4A</td>\n",
       "      <td>North York</td>\n",
       "      <td>Victoria Village</td>\n",
       "    </tr>\n",
       "    <tr>\n",
       "      <td>4</td>\n",
       "      <td>M5A</td>\n",
       "      <td>Downtown Toronto</td>\n",
       "      <td>Regent Park / Harbourfront</td>\n",
       "    </tr>\n",
       "  </tbody>\n",
       "</table>\n",
       "</div>"
      ],
      "text/plain": [
       "  Postal code           Borough                Neighborhood\n",
       "0         M1A      Not assigned                         NaN\n",
       "1         M2A      Not assigned                         NaN\n",
       "2         M3A        North York                   Parkwoods\n",
       "3         M4A        North York            Victoria Village\n",
       "4         M5A  Downtown Toronto  Regent Park / Harbourfront"
      ]
     },
     "execution_count": 2,
     "metadata": {},
     "output_type": "execute_result"
    }
   ],
   "source": [
    "wiki_data = pd.read_html(\"https://en.wikipedia.org/wiki/List_of_postal_codes_of_Canada:_M\")[0]\n",
    "wiki_data.head()"
   ]
  },
  {
   "cell_type": "markdown",
   "metadata": {},
   "source": [
    "## Cleaning the data\n",
    "\n",
    "- Removing the not assigned borough\n",
    "- Replacing the '/' with a ',' where we have multiple entries for Neighborhood\n",
    "- There are no enteries where we donot have a value for Neighborhood"
   ]
  },
  {
   "cell_type": "code",
   "execution_count": 3,
   "metadata": {},
   "outputs": [
    {
     "data": {
      "text/html": [
       "<div>\n",
       "<style scoped>\n",
       "    .dataframe tbody tr th:only-of-type {\n",
       "        vertical-align: middle;\n",
       "    }\n",
       "\n",
       "    .dataframe tbody tr th {\n",
       "        vertical-align: top;\n",
       "    }\n",
       "\n",
       "    .dataframe thead th {\n",
       "        text-align: right;\n",
       "    }\n",
       "</style>\n",
       "<table border=\"1\" class=\"dataframe\">\n",
       "  <thead>\n",
       "    <tr style=\"text-align: right;\">\n",
       "      <th></th>\n",
       "      <th>Postal code</th>\n",
       "      <th>Borough</th>\n",
       "      <th>Neighborhood</th>\n",
       "    </tr>\n",
       "  </thead>\n",
       "  <tbody>\n",
       "    <tr>\n",
       "      <td>0</td>\n",
       "      <td>M3A</td>\n",
       "      <td>North York</td>\n",
       "      <td>Parkwoods</td>\n",
       "    </tr>\n",
       "    <tr>\n",
       "      <td>1</td>\n",
       "      <td>M4A</td>\n",
       "      <td>North York</td>\n",
       "      <td>Victoria Village</td>\n",
       "    </tr>\n",
       "    <tr>\n",
       "      <td>2</td>\n",
       "      <td>M5A</td>\n",
       "      <td>Downtown Toronto</td>\n",
       "      <td>Regent Park , Harbourfront</td>\n",
       "    </tr>\n",
       "    <tr>\n",
       "      <td>3</td>\n",
       "      <td>M6A</td>\n",
       "      <td>North York</td>\n",
       "      <td>Lawrence Manor , Lawrence Heights</td>\n",
       "    </tr>\n",
       "    <tr>\n",
       "      <td>4</td>\n",
       "      <td>M7A</td>\n",
       "      <td>Downtown Toronto</td>\n",
       "      <td>Queen's Park , Ontario Provincial Government</td>\n",
       "    </tr>\n",
       "  </tbody>\n",
       "</table>\n",
       "</div>"
      ],
      "text/plain": [
       "  Postal code           Borough                                  Neighborhood\n",
       "0         M3A        North York                                     Parkwoods\n",
       "1         M4A        North York                              Victoria Village\n",
       "2         M5A  Downtown Toronto                    Regent Park , Harbourfront\n",
       "3         M6A        North York             Lawrence Manor , Lawrence Heights\n",
       "4         M7A  Downtown Toronto  Queen's Park , Ontario Provincial Government"
      ]
     },
     "execution_count": 3,
     "metadata": {},
     "output_type": "execute_result"
    }
   ],
   "source": [
    "neighborhood_data = pd.DataFrame(columns = ['Postal code','Borough', 'Neighborhood'], \n",
    "                                 data = wiki_data[wiki_data.Borough!='Not assigned'].values)\n",
    "neighborhood_data.Neighborhood = neighborhood_data.Neighborhood.replace({'/':','},regex=True)\n",
    "neighborhood_data.head()"
   ]
  },
  {
   "cell_type": "code",
   "execution_count": 4,
   "metadata": {},
   "outputs": [
    {
     "name": "stdout",
     "output_type": "stream",
     "text": [
      "The size of the data frame read is (103, 3)\n"
     ]
    }
   ],
   "source": [
    "print(\"The size of the data frame read is {}\".format(neighborhood_data.shape))"
   ]
  },
  {
   "cell_type": "markdown",
   "metadata": {},
   "source": [
    "## Fetching the latitude and longitude\n",
    "\n",
    "Using geocoder package to get the latitude and longitude\n",
    "- But this failed so used the csv file provided."
   ]
  },
  {
   "cell_type": "code",
   "execution_count": 5,
   "metadata": {},
   "outputs": [],
   "source": [
    "# for i,data in neighborhood_data.iterrows():\n",
    "#     lat_lng = None\n",
    "#     while(lat_lng==None):\n",
    "#         location = geocoder.google('{}, Toronto, Ontario'.format(data['Postal code']))\n",
    "#         lat_lng = location.latlng\n",
    "#     neighborhood_data['Latitude'] = lat_lng[0]\n",
    "#     neighborhood_data['Longitude'] = lat_lng[1]\n",
    "#     print(i, data['Postal code'])\n",
    "#     time.sleep(1.0)"
   ]
  },
  {
   "cell_type": "markdown",
   "metadata": {},
   "source": [
    "### Reading the coordinates data\n",
    "\n",
    "The index of the data frame is set to be the Postal code column."
   ]
  },
  {
   "cell_type": "code",
   "execution_count": 6,
   "metadata": {},
   "outputs": [
    {
     "data": {
      "text/html": [
       "<div>\n",
       "<style scoped>\n",
       "    .dataframe tbody tr th:only-of-type {\n",
       "        vertical-align: middle;\n",
       "    }\n",
       "\n",
       "    .dataframe tbody tr th {\n",
       "        vertical-align: top;\n",
       "    }\n",
       "\n",
       "    .dataframe thead th {\n",
       "        text-align: right;\n",
       "    }\n",
       "</style>\n",
       "<table border=\"1\" class=\"dataframe\">\n",
       "  <thead>\n",
       "    <tr style=\"text-align: right;\">\n",
       "      <th></th>\n",
       "      <th>Latitude</th>\n",
       "      <th>Longitude</th>\n",
       "    </tr>\n",
       "    <tr>\n",
       "      <th>Postal Code</th>\n",
       "      <th></th>\n",
       "      <th></th>\n",
       "    </tr>\n",
       "  </thead>\n",
       "  <tbody>\n",
       "    <tr>\n",
       "      <td>M1B</td>\n",
       "      <td>43.806686</td>\n",
       "      <td>-79.194353</td>\n",
       "    </tr>\n",
       "    <tr>\n",
       "      <td>M1C</td>\n",
       "      <td>43.784535</td>\n",
       "      <td>-79.160497</td>\n",
       "    </tr>\n",
       "    <tr>\n",
       "      <td>M1E</td>\n",
       "      <td>43.763573</td>\n",
       "      <td>-79.188711</td>\n",
       "    </tr>\n",
       "    <tr>\n",
       "      <td>M1G</td>\n",
       "      <td>43.770992</td>\n",
       "      <td>-79.216917</td>\n",
       "    </tr>\n",
       "    <tr>\n",
       "      <td>M1H</td>\n",
       "      <td>43.773136</td>\n",
       "      <td>-79.239476</td>\n",
       "    </tr>\n",
       "  </tbody>\n",
       "</table>\n",
       "</div>"
      ],
      "text/plain": [
       "              Latitude  Longitude\n",
       "Postal Code                      \n",
       "M1B          43.806686 -79.194353\n",
       "M1C          43.784535 -79.160497\n",
       "M1E          43.763573 -79.188711\n",
       "M1G          43.770992 -79.216917\n",
       "M1H          43.773136 -79.239476"
      ]
     },
     "execution_count": 6,
     "metadata": {},
     "output_type": "execute_result"
    }
   ],
   "source": [
    "lat_lng = pd.read_csv('./Geospatial_Coordinates.csv')\n",
    "lat_lng.set_index('Postal Code', inplace=True)\n",
    "lat_lng.head()"
   ]
  },
  {
   "cell_type": "markdown",
   "metadata": {},
   "source": [
    "## Merging the latitude and longitude data with neighborhood data"
   ]
  },
  {
   "cell_type": "code",
   "execution_count": 7,
   "metadata": {},
   "outputs": [
    {
     "data": {
      "text/html": [
       "<div>\n",
       "<style scoped>\n",
       "    .dataframe tbody tr th:only-of-type {\n",
       "        vertical-align: middle;\n",
       "    }\n",
       "\n",
       "    .dataframe tbody tr th {\n",
       "        vertical-align: top;\n",
       "    }\n",
       "\n",
       "    .dataframe thead th {\n",
       "        text-align: right;\n",
       "    }\n",
       "</style>\n",
       "<table border=\"1\" class=\"dataframe\">\n",
       "  <thead>\n",
       "    <tr style=\"text-align: right;\">\n",
       "      <th></th>\n",
       "      <th>Postal code</th>\n",
       "      <th>Borough</th>\n",
       "      <th>Neighborhood</th>\n",
       "      <th>Latitude</th>\n",
       "      <th>Longitude</th>\n",
       "    </tr>\n",
       "  </thead>\n",
       "  <tbody>\n",
       "    <tr>\n",
       "      <td>0</td>\n",
       "      <td>M3A</td>\n",
       "      <td>North York</td>\n",
       "      <td>Parkwoods</td>\n",
       "      <td>43.753259</td>\n",
       "      <td>-79.329656</td>\n",
       "    </tr>\n",
       "    <tr>\n",
       "      <td>1</td>\n",
       "      <td>M4A</td>\n",
       "      <td>North York</td>\n",
       "      <td>Victoria Village</td>\n",
       "      <td>43.725882</td>\n",
       "      <td>-79.315572</td>\n",
       "    </tr>\n",
       "    <tr>\n",
       "      <td>2</td>\n",
       "      <td>M5A</td>\n",
       "      <td>Downtown Toronto</td>\n",
       "      <td>Regent Park , Harbourfront</td>\n",
       "      <td>43.654260</td>\n",
       "      <td>-79.360636</td>\n",
       "    </tr>\n",
       "    <tr>\n",
       "      <td>3</td>\n",
       "      <td>M6A</td>\n",
       "      <td>North York</td>\n",
       "      <td>Lawrence Manor , Lawrence Heights</td>\n",
       "      <td>43.718518</td>\n",
       "      <td>-79.464763</td>\n",
       "    </tr>\n",
       "    <tr>\n",
       "      <td>4</td>\n",
       "      <td>M7A</td>\n",
       "      <td>Downtown Toronto</td>\n",
       "      <td>Queen's Park , Ontario Provincial Government</td>\n",
       "      <td>43.662301</td>\n",
       "      <td>-79.389494</td>\n",
       "    </tr>\n",
       "  </tbody>\n",
       "</table>\n",
       "</div>"
      ],
      "text/plain": [
       "  Postal code           Borough                                  Neighborhood  \\\n",
       "0         M3A        North York                                     Parkwoods   \n",
       "1         M4A        North York                              Victoria Village   \n",
       "2         M5A  Downtown Toronto                    Regent Park , Harbourfront   \n",
       "3         M6A        North York             Lawrence Manor , Lawrence Heights   \n",
       "4         M7A  Downtown Toronto  Queen's Park , Ontario Provincial Government   \n",
       "\n",
       "    Latitude  Longitude  \n",
       "0  43.753259 -79.329656  \n",
       "1  43.725882 -79.315572  \n",
       "2  43.654260 -79.360636  \n",
       "3  43.718518 -79.464763  \n",
       "4  43.662301 -79.389494  "
      ]
     },
     "execution_count": 7,
     "metadata": {},
     "output_type": "execute_result"
    }
   ],
   "source": [
    "neighborhood_data['Latitude'] = lat_lng.loc[neighborhood_data['Postal code'], 'Latitude'].values\n",
    "neighborhood_data['Longitude'] = lat_lng.loc[neighborhood_data['Postal code'], 'Longitude'].values\n",
    "neighborhood_data.head()"
   ]
  },
  {
   "cell_type": "markdown",
   "metadata": {},
   "source": [
    "## Analysing and understanding the data\n",
    "\n",
    "Let's check how many unique Borough's and Neighborhood's are present."
   ]
  },
  {
   "cell_type": "code",
   "execution_count": 8,
   "metadata": {},
   "outputs": [
    {
     "name": "stdout",
     "output_type": "stream",
     "text": [
      "The data has 10 boroughs and 98 neighborhoods.\n"
     ]
    }
   ],
   "source": [
    "print('The data has {} boroughs and {} neighborhoods.'.format(\n",
    "        len(neighborhood_data['Borough'].unique()),\n",
    "        len(neighborhood_data['Neighborhood'].unique())\n",
    "    )\n",
    ")"
   ]
  },
  {
   "cell_type": "markdown",
   "metadata": {},
   "source": [
    "## Getting the latitude and longitude of the Toronto \n",
    "\n",
    "Geocoder package was not working so used open cage geocode"
   ]
  },
  {
   "cell_type": "code",
   "execution_count": 9,
   "metadata": {},
   "outputs": [
    {
     "name": "stdout",
     "output_type": "stream",
     "text": [
      "The latitude and longitude of Toronto, CA are 43.6534817, -79.3839347\n"
     ]
    }
   ],
   "source": [
    "# lat_lng = None\n",
    "# while(lat_lng==None):\n",
    "#     location = geocoder.google('Toronto, Ontario')\n",
    "#     lat_lng = location.latlng\n",
    "#  = location.latlng[0]\n",
    "#  = location.latlng[1]\n",
    "geolocator = OpenCageGeocode(\"d9151bc21e3c47daa72ac27bf5422c76\")\n",
    "location = geolocator.geocode(\"Toronto\", country=\"CA\")\n",
    "latitude_TO = location[0]['geometry']['lat']\n",
    "longitude_TO = location[0]['geometry']['lng']\n",
    "print(\"The latitude and longitude of Toronto, CA are {}, {}\".format(latitude_TO, longitude_TO))\n"
   ]
  },
  {
   "cell_type": "markdown",
   "metadata": {},
   "source": [
    "## Plotting the neighborhoods on a Map"
   ]
  },
  {
   "cell_type": "code",
   "execution_count": 10,
   "metadata": {},
   "outputs": [
    {
     "data": {
      "text/html": [
       "<div style=\"width:100%;\"><div style=\"position:relative;width:100%;height:0;padding-bottom:60%;\"><iframe src=\"about:blank\" style=\"position:absolute;width:100%;height:100%;left:0;top:0;border:none !important;\" data-html=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 onload=\"this.contentDocument.open();this.contentDocument.write(atob(this.getAttribute('data-html')));this.contentDocument.close();\" allowfullscreen webkitallowfullscreen mozallowfullscreen></iframe></div></div>"
      ],
      "text/plain": [
       "<folium.folium.Map at 0x21d1c56e8c8>"
      ]
     },
     "execution_count": 10,
     "metadata": {},
     "output_type": "execute_result"
    }
   ],
   "source": [
    "map_toronto = folium.Map(location=[latitude_TO, longitude_TO], zoom_start=10)\n",
    "\n",
    "# add markers to map\n",
    "for lat, lng, borough, neighborhood in zip(neighborhood_data['Latitude'], neighborhood_data['Longitude'], neighborhood_data['Borough'], neighborhood_data['Neighborhood']):\n",
    "    label = '{}, {}'.format(neighborhood, borough)\n",
    "    label = folium.Popup(label, parse_html=True)\n",
    "    folium.CircleMarker(\n",
    "        [lat, lng],\n",
    "        radius=5,\n",
    "        popup=label,\n",
    "        color='blue',\n",
    "        fill=True,\n",
    "        fill_color='#3186cc',\n",
    "        fill_opacity=0.7,\n",
    "        parse_html=False).add_to(map_toronto)  \n",
    "    \n",
    "map_toronto"
   ]
  },
  {
   "cell_type": "markdown",
   "metadata": {},
   "source": [
    "### Declaring foursquare api "
   ]
  },
  {
   "cell_type": "code",
   "execution_count": 11,
   "metadata": {},
   "outputs": [
    {
     "name": "stdout",
     "output_type": "stream",
     "text": [
      "Your credentails:\n",
      "CLIENT_ID: UFX0WT0O50CEQBP4GIIDCPB5FELMNMCMDN50MAJGB0GDZDBV\n",
      "CLIENT_SECRET:WCNIIINW5HL1SHJBEUSBIRA5FC35GB4BHYAPN2UYCHWYFPRF\n"
     ]
    }
   ],
   "source": [
    "CLIENT_ID = 'UFX0WT0O50CEQBP4GIIDCPB5FELMNMCMDN50MAJGB0GDZDBV' # your Foursquare ID\n",
    "CLIENT_SECRET = 'WCNIIINW5HL1SHJBEUSBIRA5FC35GB4BHYAPN2UYCHWYFPRF' # your Foursquare Secret\n",
    "VERSION = '20180605' # Foursquare API version\n",
    "\n",
    "print('Your credentails:')\n",
    "print('CLIENT_ID: ' + CLIENT_ID)\n",
    "print('CLIENT_SECRET:' + CLIENT_SECRET)"
   ]
  },
  {
   "cell_type": "markdown",
   "metadata": {},
   "source": [
    "## Explore the Neighborhoods"
   ]
  },
  {
   "cell_type": "code",
   "execution_count": 12,
   "metadata": {},
   "outputs": [],
   "source": [
    "def getNearbyVenues(names, latitudes, longitudes, radius=500, LIMIT=100):\n",
    "    \n",
    "    venues_list=[]\n",
    "    for name, lat, lng in zip(names, latitudes, longitudes):\n",
    "\n",
    "        # create the API request URL\n",
    "        url = 'https://api.foursquare.com/v2/venues/explore?&client_id={}&client_secret={}&v={}&ll={},{}&radius={}&limit={}'.format(\n",
    "            CLIENT_ID, \n",
    "            CLIENT_SECRET, \n",
    "            VERSION, \n",
    "            lat, \n",
    "            lng, \n",
    "            radius, \n",
    "            LIMIT)\n",
    "            \n",
    "        # make the GET request\n",
    "        results = requests.get(url).json()[\"response\"]['groups'][0]['items']\n",
    "        \n",
    "        # return only relevant information for each nearby venue\n",
    "        venues_list.append([(\n",
    "            name, \n",
    "            lat, \n",
    "            lng, \n",
    "            v['venue']['name'], \n",
    "            v['venue']['location']['lat'], \n",
    "            v['venue']['location']['lng'],  \n",
    "            v['venue']['categories'][0]['name']) for v in results])\n",
    "\n",
    "    nearby_venues = pd.DataFrame([item for venue_list in venues_list for item in venue_list])\n",
    "    nearby_venues.columns = ['Neighborhood', \n",
    "                  'Neighborhood Latitude', \n",
    "                  'Neighborhood Longitude', \n",
    "                  'Venue', \n",
    "                  'Venue Latitude', \n",
    "                  'Venue Longitude', \n",
    "                  'Venue Category']\n",
    "    \n",
    "    return(nearby_venues)"
   ]
  },
  {
   "cell_type": "markdown",
   "metadata": {},
   "source": [
    "### Venues withing 500m radius and top 100"
   ]
  },
  {
   "cell_type": "code",
   "execution_count": null,
   "metadata": {},
   "outputs": [],
   "source": [
    "toronto_venues = getNearbyVenues(names=neighborhood_data['Neighborhood'],\n",
    "                                   latitudes=neighborhood_data['Latitude'],\n",
    "                                   longitudes=neighborhood_data['Longitude']\n",
    "                                  )\n",
    "toronto_venues.head()"
   ]
  },
  {
   "cell_type": "markdown",
   "metadata": {},
   "source": [
    "### The size of the data frame with venues"
   ]
  },
  {
   "cell_type": "code",
   "execution_count": null,
   "metadata": {},
   "outputs": [],
   "source": [
    "print(toronto_venues.shape)"
   ]
  },
  {
   "cell_type": "markdown",
   "metadata": {},
   "source": [
    "### The number of unique categories from each venue"
   ]
  },
  {
   "cell_type": "code",
   "execution_count": null,
   "metadata": {},
   "outputs": [],
   "source": [
    "print(\"The number of unique categories are {}\".format(len(toronto_venues['Venue Category'].unique())))"
   ]
  },
  {
   "cell_type": "markdown",
   "metadata": {},
   "source": [
    "### One hot encoding"
   ]
  },
  {
   "cell_type": "code",
   "execution_count": null,
   "metadata": {},
   "outputs": [],
   "source": [
    "# one hot encoding\n",
    "toronto_onehot = pd.get_dummies(toronto_venues[['Venue Category']], prefix=\"\", prefix_sep=\"\")\n",
    "\n",
    "# add neighborhood column back to dataframe\n",
    "toronto_onehot['Neighborhood'] = toronto_venues['Neighborhood']\n",
    "\n",
    "# # move neighborhood column to the first column\n",
    "neighborhoodIndex = list(toronto_onehot.columns).index('Neighborhood')\n",
    "fixed_columns = [toronto_onehot.columns[neighborhoodIndex]] + list(toronto_onehot.columns[:neighborhoodIndex])+list(toronto_onehot.columns[neighborhoodIndex+1:])\n",
    "toronto_onehot = toronto_onehot[fixed_columns]\n",
    "\n",
    "toronto_onehot.head()"
   ]
  },
  {
   "cell_type": "code",
   "execution_count": null,
   "metadata": {},
   "outputs": [],
   "source": [
    "print(\"The size of the onehot dataframe is {}\".format(toronto_onehot.shape))"
   ]
  },
  {
   "cell_type": "markdown",
   "metadata": {},
   "source": [
    "### Group rows by neighborhood and by taking the mean of the frequency of occurrence of each category"
   ]
  },
  {
   "cell_type": "code",
   "execution_count": null,
   "metadata": {},
   "outputs": [],
   "source": [
    "toronto_grouped = toronto_onehot.groupby('Neighborhood').mean().reset_index()\n",
    "toronto_grouped"
   ]
  },
  {
   "cell_type": "code",
   "execution_count": null,
   "metadata": {},
   "outputs": [],
   "source": [
    "print(\"The new size is {}\".format(toronto_grouped.shape))"
   ]
  },
  {
   "cell_type": "markdown",
   "metadata": {},
   "source": [
    "### Top 10 common venues"
   ]
  },
  {
   "cell_type": "code",
   "execution_count": null,
   "metadata": {},
   "outputs": [],
   "source": [
    "# num_top_venues = 10\n",
    "\n",
    "# for hood in toronto_grouped['Neighborhood']:\n",
    "#     print(\"----\"+hood+\"----\")\n",
    "#     temp = toronto_grouped[toronto_grouped['Neighborhood'] == hood].T.reset_index()\n",
    "#     temp.columns = ['venue','freq']\n",
    "#     temp = temp.iloc[1:]\n",
    "#     temp['freq'] = temp['freq'].astype(float)\n",
    "#     temp = temp.round({'freq': 2})\n",
    "#     print(temp.sort_values('freq', ascending=False).reset_index(drop=True).head(num_top_venues))\n",
    "#     print('\\n')"
   ]
  },
  {
   "cell_type": "code",
   "execution_count": null,
   "metadata": {},
   "outputs": [],
   "source": [
    "def return_most_common_venues(row, num_top_venues):\n",
    "    row_categories = row.iloc[1:]\n",
    "    row_categories_sorted = row_categories.sort_values(ascending=False)\n",
    "    \n",
    "    \n",
    "    return row_categories_sorted.index.values[0:num_top_venues]"
   ]
  },
  {
   "cell_type": "code",
   "execution_count": null,
   "metadata": {},
   "outputs": [],
   "source": [
    "num_top_venues = 10\n",
    "\n",
    "indicators = ['st', 'nd', 'rd']\n",
    "\n",
    "# create columns according to number of top venues\n",
    "columns = ['Neighborhood']\n",
    "for ind in np.arange(num_top_venues):\n",
    "    try:\n",
    "        columns.append('{}{} Most Common Venue'.format(ind+1, indicators[ind]))\n",
    "    except:\n",
    "        columns.append('{}th Most Common Venue'.format(ind+1))\n",
    "\n",
    "# create a new dataframe\n",
    "neighborhoods_venues_sorted = pd.DataFrame(columns=columns)\n",
    "neighborhoods_venues_sorted['Neighborhood'] = toronto_grouped['Neighborhood']\n",
    "\n",
    "for ind in np.arange(toronto_grouped.shape[0]):\n",
    "    neighborhoods_venues_sorted.iloc[ind, 1:] = return_most_common_venues(toronto_grouped.iloc[ind, :], num_top_venues)\n",
    "\n",
    "neighborhoods_venues_sorted.head()"
   ]
  },
  {
   "cell_type": "markdown",
   "metadata": {},
   "source": [
    "## Clustering the Neighborhoods\n",
    "\n",
    "Using k-means clustering"
   ]
  },
  {
   "cell_type": "code",
   "execution_count": null,
   "metadata": {},
   "outputs": [],
   "source": [
    "# set number of clusters\n",
    "kclusters = 3\n",
    "\n",
    "toronto_grouped_clustering = toronto_grouped.drop('Neighborhood', 1)\n",
    "\n",
    "# run k-means clustering\n",
    "kmeans = KMeans(n_clusters=kclusters, random_state=0).fit(toronto_grouped_clustering)\n",
    "\n",
    "# check cluster labels generated for each row in the dataframe\n",
    "kmeans.labels_[0:10] "
   ]
  },
  {
   "cell_type": "markdown",
   "metadata": {},
   "source": [
    "### Including cluster and the most common venues in data frame"
   ]
  },
  {
   "cell_type": "code",
   "execution_count": null,
   "metadata": {},
   "outputs": [],
   "source": [
    "# add clustering labels\n",
    "neighborhoods_venues_sorted.insert(0, 'Cluster Labels', kmeans.labels_)\n",
    "\n",
    "toronto_merged = neighborhood_data\n",
    "\n",
    "# merge toronto_grouped with toronto_data to add latitude/longitude for each neighborhood\n",
    "toronto_merged = toronto_merged.join(neighborhoods_venues_sorted.set_index('Neighborhood'), on='Neighborhood')\n",
    "\n",
    "toronto_merged.head() # check the last columns!"
   ]
  },
  {
   "cell_type": "code",
   "execution_count": null,
   "metadata": {},
   "outputs": [],
   "source": [
    "toronto_merged = toronto_merged['Cluster Labels'].dropna(inplace=True)"
   ]
  },
  {
   "cell_type": "markdown",
   "metadata": {},
   "source": [
    "### Visualizing the clusters"
   ]
  },
  {
   "cell_type": "code",
   "execution_count": null,
   "metadata": {},
   "outputs": [],
   "source": [
    "map_clusters = folium.Map(location=[latitude_TO, longitude_TO], zoom_start=10)\n",
    "# set color scheme for the clusters\n",
    "x = np.arange(kclusters)\n",
    "ys = [i + x + (i*x)**2 for i in range(kclusters)]\n",
    "colors_array = cm.rainbow(np.linspace(0, 1, len(ys)))\n",
    "rainbow = [colors.rgb2hex(i) for i in colors_array]\n",
    "\n",
    "# add markers to the map\n",
    "markers_colors = []\n",
    "for lat, lon, poi, cluster in zip(toronto_merged['Latitude'], toronto_merged['Longitude'], toronto_merged['Neighborhood'], toronto_merged['Cluster Labels']):\n",
    "    label = folium.Popup(str(poi) + ' Cluster ' + str(cluster), parse_html=True)\n",
    "    folium.CircleMarker(\n",
    "        [lat, lon],\n",
    "        radius=5,\n",
    "        popup=label,\n",
    "        color=rainbow[int(cluster-1)],\n",
    "        fill=True,\n",
    "        fill_color=rainbow[int(cluster-1)],\n",
    "        fill_opacity=0.9).add_to(map_clusters)\n",
    "       \n",
    "map_clusters"
   ]
  },
  {
   "cell_type": "markdown",
   "metadata": {},
   "source": [
    "## Analysing the Clusters"
   ]
  },
  {
   "cell_type": "code",
   "execution_count": null,
   "metadata": {},
   "outputs": [],
   "source": [
    "toronto_merged.reset_index(inplace=True)"
   ]
  },
  {
   "cell_type": "code",
   "execution_count": null,
   "metadata": {
    "scrolled": true
   },
   "outputs": [],
   "source": [
    "toronto_merged.loc[toronto_merged['Cluster Labels'] == 0, toronto_merged.columns[[1] + list(range(5, toronto_merged.shape[1]))]]"
   ]
  },
  {
   "cell_type": "code",
   "execution_count": null,
   "metadata": {},
   "outputs": [],
   "source": [
    "toronto_merged.loc[toronto_merged['Cluster Labels'] == 1, toronto_merged.columns[[1] + list(range(5, toronto_merged.shape[1]))]]"
   ]
  },
  {
   "cell_type": "code",
   "execution_count": null,
   "metadata": {},
   "outputs": [],
   "source": [
    "toronto_merged.loc[toronto_merged['Cluster Labels'] == 2, toronto_merged.columns[[1] + list(range(5, toronto_merged.shape[1]))]]"
   ]
  }
 ],
 "metadata": {
  "kernelspec": {
   "display_name": "Python 3",
   "language": "python",
   "name": "python3"
  },
  "language_info": {
   "codemirror_mode": {
    "name": "ipython",
    "version": 3
   },
   "file_extension": ".py",
   "mimetype": "text/x-python",
   "name": "python",
   "nbconvert_exporter": "python",
   "pygments_lexer": "ipython3",
   "version": "3.7.4"
  }
 },
 "nbformat": 4,
 "nbformat_minor": 2
}
